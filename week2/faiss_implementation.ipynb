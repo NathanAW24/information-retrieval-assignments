{
  "cells": [
    {
      "cell_type": "markdown",
      "source": [
        "Install faiss"
      ],
      "metadata": {
        "id": "hVjHraXxXKP9"
      }
    },
    {
      "cell_type": "code",
      "source": [
        "%pip install faiss-gpu"
      ],
      "metadata": {
        "colab": {
          "base_uri": "https://localhost:8080/"
        },
        "id": "QMQkO3Q4XORr",
        "outputId": "8e3ea909-071f-4245-a1c1-abd25ef12ebc"
      },
      "execution_count": null,
      "outputs": [
        {
          "output_type": "stream",
          "name": "stdout",
          "text": [
            "Collecting faiss-gpu\n",
            "  Downloading faiss_gpu-1.7.2-cp310-cp310-manylinux_2_17_x86_64.manylinux2014_x86_64.whl (85.5 MB)\n",
            "\u001b[2K     \u001b[90m━━━━━━━━━━━━━━━━━━━━━━━━━━━━━━━━━━━━━━━━\u001b[0m \u001b[32m85.5/85.5 MB\u001b[0m \u001b[31m8.8 MB/s\u001b[0m eta \u001b[36m0:00:00\u001b[0m\n",
            "\u001b[?25hInstalling collected packages: faiss-gpu\n",
            "Successfully installed faiss-gpu-1.7.2\n"
          ]
        }
      ]
    },
    {
      "cell_type": "markdown",
      "source": [
        "Download and extract SIFT1M"
      ],
      "metadata": {
        "id": "E4t6o30_XCFi"
      }
    },
    {
      "cell_type": "code",
      "source": [
        "!wget ftp://ftp.irisa.fr/local/texmex/corpus/sift.tar.gz"
      ],
      "metadata": {
        "colab": {
          "base_uri": "https://localhost:8080/"
        },
        "id": "c7OhCg7gWx1c",
        "outputId": "0bf42ade-ea1e-4adb-ad63-72e3ff86d584"
      },
      "execution_count": null,
      "outputs": [
        {
          "output_type": "stream",
          "name": "stdout",
          "text": [
            "--2023-09-19 02:11:02--  ftp://ftp.irisa.fr/local/texmex/corpus/sift.tar.gz\n",
            "           => ‘sift.tar.gz’\n",
            "Resolving ftp.irisa.fr (ftp.irisa.fr)... 131.254.254.45, 2001:660:7303:254::45\n",
            "Connecting to ftp.irisa.fr (ftp.irisa.fr)|131.254.254.45|:21... connected.\n",
            "Logging in as anonymous ... Logged in!\n",
            "==> SYST ... done.    ==> PWD ... done.\n",
            "==> TYPE I ... done.  ==> CWD (1) /local/texmex/corpus ... done.\n",
            "==> SIZE sift.tar.gz ... 168280445\n",
            "==> PASV ... done.    ==> RETR sift.tar.gz ... done.\n",
            "Length: 168280445 (160M) (unauthoritative)\n",
            "\n",
            "sift.tar.gz         100%[===================>] 160.48M  24.9MB/s    in 7.2s    \n",
            "\n",
            "2023-09-19 02:11:11 (22.2 MB/s) - ‘sift.tar.gz’ saved [168280445]\n",
            "\n"
          ]
        }
      ]
    },
    {
      "cell_type": "code",
      "source": [
        "!tar -xvzf sift.tar.gz"
      ],
      "metadata": {
        "colab": {
          "base_uri": "https://localhost:8080/"
        },
        "id": "cEp8c9xTUw4M",
        "outputId": "349f27a2-f910-4548-fb5c-06af4e83393b"
      },
      "execution_count": null,
      "outputs": [
        {
          "output_type": "stream",
          "name": "stdout",
          "text": [
            "sift/\n",
            "sift/sift_base.fvecs\n",
            "sift/sift_groundtruth.ivecs\n",
            "sift/sift_learn.fvecs\n",
            "sift/sift_query.fvecs\n"
          ]
        }
      ]
    },
    {
      "cell_type": "code",
      "execution_count": null,
      "metadata": {
        "id": "Yz7mw0xoQOrC",
        "outputId": "9bbef0f3-8f8c-4134-cbc3-a34cc49ff522",
        "colab": {
          "base_uri": "https://localhost:8080/"
        }
      },
      "outputs": [
        {
          "output_type": "stream",
          "name": "stdout",
          "text": [
            "(129000000,) 128\n",
            "(1290000,) 128\n"
          ]
        }
      ],
      "source": [
        "import numpy as np\n",
        "import pandas as pd\n",
        "from sklearn.metrics.pairwise import cosine_similarity\n",
        "\n",
        "# now define a function to read the fvecs file format of Sift1M dataset\n",
        "def read_fvecs(fp):\n",
        "    a = np.fromfile(fp, dtype='int32')\n",
        "    d = a[0]\n",
        "    print(a.shape,d)\n",
        "    return a.reshape(-1, d + 1)[:, 1:].copy().view('float32')\n",
        "\n",
        "# 1M samples\n",
        "wb = read_fvecs('sift/sift_base.fvecs')\n",
        "# queries\n",
        "xq = read_fvecs('sift/sift_query.fvecs')"
      ]
    },
    {
      "cell_type": "code",
      "execution_count": null,
      "metadata": {
        "id": "5iintiVtQOrD",
        "outputId": "c30a7238-0074-42b2-b7dd-07979c367156",
        "colab": {
          "base_uri": "https://localhost:8080/"
        }
      },
      "outputs": [
        {
          "output_type": "execute_result",
          "data": {
            "text/plain": [
              "(1000000, 128)"
            ]
          },
          "metadata": {},
          "execution_count": 8
        }
      ],
      "source": [
        "wb.shape"
      ]
    },
    {
      "cell_type": "code",
      "execution_count": null,
      "metadata": {
        "id": "DxCtc1AjQOrE"
      },
      "outputs": [],
      "source": [
        "import faiss\n",
        "\n",
        "d = wb.shape[1]\n",
        "nbits = 4\n",
        "\n",
        "# initialize the index using our vectors dimensionality (128) and nbits\n",
        "index = faiss.IndexLSH(d, nbits)\n",
        "# then add the data\n",
        "index.add(wb)"
      ]
    },
    {
      "cell_type": "code",
      "execution_count": null,
      "metadata": {
        "id": "ckFd_eb1QOrE",
        "outputId": "ce4cf9ef-ec0f-40ff-a615-3009fbe60b6c",
        "colab": {
          "base_uri": "https://localhost:8080/"
        }
      },
      "outputs": [
        {
          "output_type": "execute_result",
          "data": {
            "text/plain": [
              "array([[26, 47, 43,  2,  6, 70, 73, 74, 25,  0]])"
            ]
          },
          "metadata": {},
          "execution_count": 10
        }
      ],
      "source": [
        "xq0 = xq[0].reshape(1, d)\n",
        "# we use the search method to find the k nearest vectors\n",
        "D, I = index.search(xq0, k=10)\n",
        "# the indexes of these vectors are returned to I\n",
        "I"
      ]
    },
    {
      "cell_type": "code",
      "execution_count": null,
      "metadata": {
        "id": "UqhAM3usQOrE",
        "outputId": "dabe1167-43c9-48c0-bbe4-3de3fc57ee15",
        "colab": {
          "base_uri": "https://localhost:8080/"
        }
      },
      "outputs": [
        {
          "output_type": "execute_result",
          "data": {
            "text/plain": [
              "array([[31., 15., 47., ...,  0.,  1., 19.],\n",
              "       [ 0.,  0.,  0., ...,  0., 30., 72.],\n",
              "       [22., 15., 43., ...,  0.,  0., 12.],\n",
              "       ...,\n",
              "       [ 6., 15.,  9., ..., 12., 17., 21.],\n",
              "       [33., 22.,  8., ...,  0., 11., 69.],\n",
              "       [ 0., 16., 35., ..., 25., 23.,  1.]], dtype=float32)"
            ]
          },
          "metadata": {},
          "execution_count": 11
        }
      ],
      "source": [
        "# we can retrieve the original vectors from wb using these indexes\n",
        "wb[I[0]]"
      ]
    },
    {
      "cell_type": "code",
      "execution_count": null,
      "metadata": {
        "id": "ozWFgdQAQOrF",
        "outputId": "5266b634-c06e-44d9-c274-69792c8e559e",
        "colab": {
          "base_uri": "https://localhost:8080/"
        }
      },
      "outputs": [
        {
          "output_type": "execute_result",
          "data": {
            "text/plain": [
              "array([[0.7344476 ],\n",
              "       [0.6316513 ],\n",
              "       [0.6995599 ],\n",
              "       [0.20448917],\n",
              "       [0.3054034 ],\n",
              "       [0.25432232],\n",
              "       [0.3049795 ],\n",
              "       [0.34137404],\n",
              "       [0.69142616],\n",
              "       [0.2670474 ]], dtype=float32)"
            ]
          },
          "metadata": {},
          "execution_count": 12
        }
      ],
      "source": [
        "# and calculate the cosine similarity between each of these vectors and xq[0]\n",
        "cosine_similarity(wb[I[0]], [xq[0]])"
      ]
    },
    {
      "cell_type": "markdown",
      "metadata": {
        "id": "iO4CJk3kQOrF"
      },
      "source": [
        "Why is the index performing so poorly? Well, we already know why. All of these vectors are stored in the LSH index under the same 4-digit, low resolution hash. We can confirm this by checking the other variable returned from our search, `D` - the *distances* calculated by our LSH index."
      ]
    },
    {
      "cell_type": "code",
      "execution_count": null,
      "metadata": {
        "id": "jiKheMIFQOrF",
        "outputId": "34d27565-d3da-4548-fdaf-f3b55eff518b",
        "colab": {
          "base_uri": "https://localhost:8080/"
        }
      },
      "outputs": [
        {
          "output_type": "execute_result",
          "data": {
            "text/plain": [
              "array([[0., 0., 0., 0., 0., 0., 0., 0., 0., 0.]], dtype=float32)"
            ]
          },
          "metadata": {},
          "execution_count": 13
        }
      ],
      "source": [
        "D"
      ]
    },
    {
      "cell_type": "markdown",
      "metadata": {
        "id": "1p-al2AEQOrG"
      },
      "source": [
        "A perfect *zero* for every single item. We know that the *Hamming distance* can only be **0** for perfect matches. So, there is only one hash bucket that will score **0**. This means that we can check how many of our vectors have been stored within this single LSH bucket by finding the point that the Hamming distance reaches 1? Let's search again, this time increasing `k` until we return a `D` array that contains more than just *zeros*."
      ]
    },
    {
      "cell_type": "code",
      "execution_count": null,
      "metadata": {
        "id": "_48HM0yJQOrG",
        "outputId": "18e86c9f-6511-4bd2-b343-a045584995d8",
        "colab": {
          "base_uri": "https://localhost:8080/"
        }
      },
      "outputs": [
        {
          "output_type": "stream",
          "name": "stdout",
          "text": [
            "172100\n"
          ]
        }
      ],
      "source": [
        "k = 100\n",
        "xq0 = xq[0].reshape(1, d)\n",
        "\n",
        "while True:\n",
        "    D, I = index.search(xq0, k=k)\n",
        "    if D.any() != 0:\n",
        "        print(k)\n",
        "        break\n",
        "    k += 100"
      ]
    },
    {
      "cell_type": "code",
      "execution_count": null,
      "metadata": {
        "id": "6TJbmCqVQOrG",
        "outputId": "53fe7040-ddbc-4b94-d08a-5456a15cfcc0",
        "colab": {
          "base_uri": "https://localhost:8080/"
        }
      },
      "outputs": [
        {
          "output_type": "execute_result",
          "data": {
            "text/plain": [
              "array([[0., 0., 0., ..., 1., 1., 1.]], dtype=float32)"
            ]
          },
          "metadata": {},
          "execution_count": 55
        }
      ],
      "source": [
        "D  # we will see both 0s, and 1s"
      ]
    },
    {
      "cell_type": "code",
      "execution_count": null,
      "metadata": {
        "id": "wV7Z1OcsQOrG",
        "outputId": "4b3a067b-c709-414c-e254-11eb6e3aa572",
        "colab": {
          "base_uri": "https://localhost:8080/"
        }
      },
      "outputs": [
        {
          "output_type": "execute_result",
          "data": {
            "text/plain": [
              "array([[0., 1.]], dtype=float32)"
            ]
          },
          "metadata": {},
          "execution_count": 15
        }
      ],
      "source": [
        "D[:, 172_039:172_041]  # we see the hash code switch at position 172_039"
      ]
    },
    {
      "cell_type": "markdown",
      "metadata": {
        "id": "6CiPKquPQOrG"
      },
      "source": [
        "What `nbits` value gives us a better chance for a more sparse distribution of our vectors?"
      ]
    },
    {
      "cell_type": "code",
      "execution_count": null,
      "metadata": {
        "id": "83qoYVB1QOrG",
        "outputId": "c0e0f5ae-a59b-4d4e-c3f2-9438fabc5875",
        "colab": {
          "base_uri": "https://localhost:8080/"
        }
      },
      "outputs": [
        {
          "output_type": "stream",
          "name": "stdout",
          "text": [
            "nbits == 2\n",
            "1000000 / 4 = 250000.0\n",
            "nbits == 4\n",
            "1000000 / 16 = 62500.0\n",
            "nbits == 8\n",
            "1000000 / 256 = 3906.25\n",
            "nbits == 16\n",
            "1000000 / 65536 = 15.2587890625\n",
            "nbits == 24\n",
            "1000000 / 16777216 = 0.059604644775390625\n",
            "nbits == 32\n",
            "1000000 / 4294967296 = 0.00023283064365386963\n"
          ]
        }
      ],
      "source": [
        "for nbits in [2, 4, 8, 16, 24, 32]:\n",
        "    buckets = 1 << nbits\n",
        "    print(f\"nbits == {nbits}\")\n",
        "    print(f\"{wb.shape[0]} / {buckets} = {wb.shape[0]/buckets}\")"
      ]
    },
    {
      "cell_type": "code",
      "execution_count": null,
      "metadata": {
        "id": "BzgzyNjDQOrG",
        "outputId": "d702964c-ade1-4345-af92-c4dcbd875381",
        "colab": {
          "base_uri": "https://localhost:8080/"
        }
      },
      "outputs": [
        {
          "output_type": "stream",
          "name": "stdout",
          "text": [
            "0.5424448\n",
            "[[ 38  73 145 122 217  81 154 148  22 123 109  95 219  74 193  58 156  43\n",
            "  153  26 132  18 129  10 113  35 233 232  87 225 197 194  70 215 176 174\n",
            "  159 169 149  49  39 190  29 133  25 140 124 126  16 143 114 118   8 120\n",
            "  102 107   2  93 237  96 238 222 224 218 239 201 202  76 210  99 191  68\n",
            "  240 184 186 172 187 167 168 155 188  47 151  45 152  41 146  37 242 136\n",
            "  137  27 139 131 243 144 121 108   6   0]]\n",
            "0.560827\n",
            "[[120  73 242 108 421 392 124 286 113 184 102 132 424  74 398 123 320  43\n",
            "  316  26 194 107 190 153 152 140 131 440  87 435 406 403  70 420 363 353\n",
            "  326 336 303 302 270 389 215 201  25 224 186 188 114 232 154 155 146 172\n",
            "   99 144   2 444 451 438 461  96 427 423 464 409 412 399 418 394 396  81\n",
            "  469 372 376 348 381 330 332 317 385  47 311 300 314 283 284 239 470 217\n",
            "  218 197 222 193 474 237 176 145   6   0]]\n",
            "0.6372647\n",
            "[[2002  275 2004  495  261 3172  228 2111   34 1448 1141 3812 3591 3385\n",
            "  3230 3005 2837 2278 2699  300 1556 1479 1523 1199 1163 1049 3895 3864\n",
            "   788 3810  762 3418 3179 3583  670 3083 2889 2992 2454 2368 2056 3144\n",
            "  1682 1668  586 1928 1484 1501  299 1937 1282 1367 1161 1383 1057 1130\n",
            "   310 3897 3904 3833 4055 3615 3750  835 4143 3476 3534 3408 3566  734\n",
            "  3199  841 4187 3084 3099  136 3111 2908 2990 2797 3132 2529 2582 2327\n",
            "  2634 2064 2078  369 4261 1833 1869 1605 1884 1533 4305 1974 1388 1138\n",
            "   981  924]]\n",
            "0.6676912\n",
            "[[ 2513 31433 16007  1845   834 31464   662 17799 13778 13138   444 51497\n",
            "  44913 37313 37140   340 20845 17900 20062 14280 14269 13156 13612 10447\n",
            "  10037  5359 52106 52052 46779 50945 40671 40337  3138 42006 23090 22814\n",
            "  21441 22186 18139 18134 17138 30580 14836 14514  1381 15470 13193 13448\n",
            "  12970 15612 10782 11351  9702 12816  5830  5931  3815 52219 52851 51740\n",
            "  53193 48831 49791 42014 53217   238 41638 40096 41911 36092 36325  2991\n",
            "  54158 25356 25659 22528 26378 21711 21740  2629 27594 18140 19296 18089\n",
            "  19748 17195 17357  3751 54261 15017 15350 14358 15414 13949 54338 15734\n",
            "  12943  9632  4164   525]]\n",
            "0.7162514\n",
            "[[432716 303765 920455 164750 489498  86256 358813 815919 720025 115811\n",
            "  686419 182408 856392 884593 605170 319318 220299 187918 182077  18090\n",
            "  164875 154020 161447 151622 138241 129727 127522 195115 193457 182897\n",
            "  187170 173437 172378  14545 177968 144720 140502 130633 137556 121416\n",
            "  121239 117085 109929 150167 127330 108392 108710  14387  96949  94162\n",
            "   88335   1370  98187  86720  84723  65651  68862  65422 196891 199219\n",
            "  191607 200011 185891 179366 200394 174006 176763   2273 176928  14547\n",
            "  164127 201997  65231 145579 145835  13446 149606 133155 135301 128074\n",
            "  149754   1669 122582 120667 122951   1494 112133 202183 101913  71555\n",
            "   65321  63212  97310  97661  92214  98091  62537  62651  58322  52919]]\n",
            "0.7048228\n",
            "[[952186  28377 336469 274576 561274 501038  16054 370477 205781 194294\n",
            "   13500  36371 566308 519198 517196 448447 434016  15075 402371 225894\n",
            "  225746 194647 204445 110715 108723 100682 621300 597268 566431 594111\n",
            "  529985 527132 502129 549516  16308 473633    613 444258  15129 376609\n",
            "  349771 490083 234076 226879 208411 270059 195760 203673 191651 273110\n",
            "  163897 181620 103757 191612  71646  73028  66188 628841 668453 594332\n",
            "  685892 587078 593981 561864 688402 532015 542230 519790 544380 510551\n",
            "  511608 500043 690372 473694 482774 465936 482941 443329 444256 425965\n",
            "  484786 380830 392833 371948 401450  14922 369470 334414 692364 258928\n",
            "  267951 226758 268723 217700    980 704405 273463 191639  99623  59632]]\n"
          ]
        }
      ],
      "source": [
        "xq0 = xq[0].reshape(1, d)\n",
        "k = 100\n",
        "\n",
        "for nbits in [2, 4, 8, 16, 24, 32]:\n",
        "    index = faiss.IndexLSH(d, nbits)\n",
        "    index.add(wb)\n",
        "    D, I = index.search(xq0, k=k)\n",
        "    cos = cosine_similarity(wb[I[0]], xq0)\n",
        "    print(np.mean(cos))\n",
        "    print(I)"
      ]
    },
    {
      "cell_type": "code",
      "execution_count": null,
      "metadata": {
        "id": "OFr_NPERQOrG",
        "outputId": "e6ef0715-0e01-4e5d-81e6-899194521bd3",
        "colab": {
          "base_uri": "https://localhost:8080/"
        }
      },
      "outputs": [
        {
          "output_type": "stream",
          "name": "stdout",
          "text": [
            "."
          ]
        },
        {
          "output_type": "stream",
          "name": "stderr",
          "text": [
            "<ipython-input-21-6ce6be1eabfc>:20: FutureWarning: The frame.append method is deprecated and will be removed from pandas in a future version. Use pandas.concat instead.\n",
            "  results = results.append(df, ignore_index=True)\n"
          ]
        },
        {
          "output_type": "stream",
          "name": "stdout",
          "text": [
            "    nbits  cosine_sim\n",
            "0     2.0    0.512804\n",
            "1     2.0    0.304980\n",
            "2     2.0    0.759479\n",
            "3     2.0    0.703182\n",
            "4     2.0    0.748983\n",
            "..    ...         ...\n",
            "95    2.0    0.713985\n",
            "96    2.0    0.782912\n",
            "97    2.0    0.703823\n",
            "98    2.0    0.305403\n",
            "99    2.0    0.267047\n",
            "\n",
            "[100 rows x 2 columns]\n"
          ]
        },
        {
          "output_type": "stream",
          "name": "stderr",
          "text": [
            "<ipython-input-21-6ce6be1eabfc>:20: FutureWarning: The frame.append method is deprecated and will be removed from pandas in a future version. Use pandas.concat instead.\n",
            "  results = results.append(df, ignore_index=True)\n"
          ]
        },
        {
          "output_type": "stream",
          "name": "stdout",
          "text": [
            "     nbits  cosine_sim\n",
            "0      2.0    0.512804\n",
            "1      2.0    0.304980\n",
            "2      2.0    0.759479\n",
            "3      2.0    0.703182\n",
            "4      2.0    0.748983\n",
            "..     ...         ...\n",
            "195    4.0    0.253997\n",
            "196    4.0    0.587719\n",
            "197    4.0    0.759479\n",
            "198    4.0    0.305403\n",
            "199    4.0    0.267047\n",
            "\n",
            "[200 rows x 2 columns]\n"
          ]
        },
        {
          "output_type": "stream",
          "name": "stderr",
          "text": [
            "<ipython-input-21-6ce6be1eabfc>:20: FutureWarning: The frame.append method is deprecated and will be removed from pandas in a future version. Use pandas.concat instead.\n",
            "  results = results.append(df, ignore_index=True)\n"
          ]
        },
        {
          "output_type": "stream",
          "name": "stdout",
          "text": [
            "     nbits  cosine_sim\n",
            "0      2.0    0.512804\n",
            "1      2.0    0.304980\n",
            "2      2.0    0.759479\n",
            "3      2.0    0.703182\n",
            "4      2.0    0.748983\n",
            "..     ...         ...\n",
            "295    8.0    0.607052\n",
            "296    8.0    0.543088\n",
            "297    8.0    0.542245\n",
            "298    8.0    0.742501\n",
            "299    8.0    0.775864\n",
            "\n",
            "[300 rows x 2 columns]\n"
          ]
        },
        {
          "output_type": "stream",
          "name": "stderr",
          "text": [
            "<ipython-input-21-6ce6be1eabfc>:20: FutureWarning: The frame.append method is deprecated and will be removed from pandas in a future version. Use pandas.concat instead.\n",
            "  results = results.append(df, ignore_index=True)\n"
          ]
        },
        {
          "output_type": "stream",
          "name": "stdout",
          "text": [
            "     nbits  cosine_sim\n",
            "0      2.0    0.512804\n",
            "1      2.0    0.304980\n",
            "2      2.0    0.759479\n",
            "3      2.0    0.703182\n",
            "4      2.0    0.748983\n",
            "..     ...         ...\n",
            "395   16.0    0.774077\n",
            "396   16.0    0.723255\n",
            "397   16.0    0.595360\n",
            "398   16.0    0.651265\n",
            "399   16.0    0.590400\n",
            "\n",
            "[400 rows x 2 columns]\n"
          ]
        },
        {
          "output_type": "stream",
          "name": "stderr",
          "text": [
            "<ipython-input-21-6ce6be1eabfc>:20: FutureWarning: The frame.append method is deprecated and will be removed from pandas in a future version. Use pandas.concat instead.\n",
            "  results = results.append(df, ignore_index=True)\n"
          ]
        },
        {
          "output_type": "stream",
          "name": "stdout",
          "text": [
            "     nbits  cosine_sim\n",
            "0      2.0    0.512804\n",
            "1      2.0    0.304980\n",
            "2      2.0    0.759479\n",
            "3      2.0    0.703182\n",
            "4      2.0    0.748983\n",
            "..     ...         ...\n",
            "495   24.0    0.804595\n",
            "496   24.0    0.689325\n",
            "497   24.0    0.795420\n",
            "498   24.0    0.749529\n",
            "499   24.0    0.771300\n",
            "\n",
            "[500 rows x 2 columns]\n"
          ]
        },
        {
          "output_type": "stream",
          "name": "stderr",
          "text": [
            "<ipython-input-21-6ce6be1eabfc>:20: FutureWarning: The frame.append method is deprecated and will be removed from pandas in a future version. Use pandas.concat instead.\n",
            "  results = results.append(df, ignore_index=True)\n"
          ]
        },
        {
          "output_type": "stream",
          "name": "stdout",
          "text": [
            "     nbits  cosine_sim\n",
            "0      2.0    0.512804\n",
            "1      2.0    0.304980\n",
            "2      2.0    0.759479\n",
            "3      2.0    0.703182\n",
            "4      2.0    0.748983\n",
            "..     ...         ...\n",
            "595   32.0    0.714064\n",
            "596   32.0    0.725134\n",
            "597   32.0    0.715338\n",
            "598   32.0    0.785418\n",
            "599   32.0    0.651885\n",
            "\n",
            "[600 rows x 2 columns]\n"
          ]
        },
        {
          "output_type": "stream",
          "name": "stderr",
          "text": [
            "<ipython-input-21-6ce6be1eabfc>:20: FutureWarning: The frame.append method is deprecated and will be removed from pandas in a future version. Use pandas.concat instead.\n",
            "  results = results.append(df, ignore_index=True)\n"
          ]
        },
        {
          "output_type": "stream",
          "name": "stdout",
          "text": [
            "     nbits  cosine_sim\n",
            "0      2.0    0.512804\n",
            "1      2.0    0.304980\n",
            "2      2.0    0.759479\n",
            "3      2.0    0.703182\n",
            "4      2.0    0.748983\n",
            "..     ...         ...\n",
            "695   64.0    0.699056\n",
            "696   64.0    0.730568\n",
            "697   64.0    0.772627\n",
            "698   64.0    0.787968\n",
            "699   64.0    0.835675\n",
            "\n",
            "[700 rows x 2 columns]\n",
            "     nbits  cosine_sim\n",
            "0      2.0    0.512804\n",
            "1      2.0    0.304980\n",
            "2      2.0    0.759479\n",
            "3      2.0    0.703182\n",
            "4      2.0    0.748983\n",
            "..     ...         ...\n",
            "795  128.0    0.761732\n",
            "796  128.0    0.838652\n",
            "797  128.0    0.743713\n",
            "798  128.0    0.840567\n",
            "799  128.0    0.809508\n",
            "\n",
            "[800 rows x 2 columns]\n"
          ]
        },
        {
          "output_type": "stream",
          "name": "stderr",
          "text": [
            "<ipython-input-21-6ce6be1eabfc>:20: FutureWarning: The frame.append method is deprecated and will be removed from pandas in a future version. Use pandas.concat instead.\n",
            "  results = results.append(df, ignore_index=True)\n"
          ]
        }
      ],
      "source": [
        "xq0 = xq[0].reshape(1, d)\n",
        "k = 100\n",
        "\n",
        "results = pd.DataFrame({\n",
        "    'nbits': [],\n",
        "    'cosine_sim': []\n",
        "})\n",
        "\n",
        "for epoch in range(1):\n",
        "    print('.', end='')\n",
        "    for nbits in [2, 4, 8, 16, 24, 32, 64, 128]:\n",
        "        index = faiss.IndexLSH(d, nbits)\n",
        "        index.add(wb)\n",
        "        D, I = index.search(xq0, k=k)\n",
        "        cos = cosine_similarity(wb[I[0]], xq0)\n",
        "        df = pd.DataFrame({\n",
        "            'cosine_sim': cos.reshape(cos.shape[0])\n",
        "        })\n",
        "        df['nbits'] = nbits\n",
        "        results = results.append(df, ignore_index=True)\n",
        "        print(results)"
      ]
    },
    {
      "cell_type": "code",
      "execution_count": null,
      "metadata": {
        "id": "XfguVAxIQOrH",
        "outputId": "ecfdee93-f3a1-41e7-e451-4a3739705443",
        "colab": {
          "base_uri": "https://localhost:8080/",
          "height": 467
        }
      },
      "outputs": [
        {
          "output_type": "execute_result",
          "data": {
            "text/plain": [
              "<Axes: xlabel='nbits', ylabel='cosine_sim'>"
            ]
          },
          "metadata": {},
          "execution_count": 19
        },
        {
          "output_type": "display_data",
          "data": {
            "text/plain": [
              "<Figure size 640x480 with 1 Axes>"
            ],
            "image/png": "[encoded data removed]"
          },
          "metadata": {}
        }
      ],
      "source": [
        "import matplotlib.pyplot as plt\n",
        "import seaborn as sns\n",
        "\n",
        "sns.lineplot(data=results, x='nbits', y='cosine_sim')"
      ]
    },
    {
      "cell_type": "markdown",
      "metadata": {
        "id": "zxMTygfVQOrH"
      },
      "source": [
        "## Assessing Issues\n",
        "\n",
        "We can also extract the vectors from our index, first let's initialize a new index with `nbits == 4`"
      ]
    },
    {
      "cell_type": "code",
      "execution_count": null,
      "metadata": {
        "id": "NuTT6fa6QOrH"
      },
      "outputs": [],
      "source": [
        "nbits = 4\n",
        "index = faiss.IndexLSH(d, nbits)\n",
        "index.add(wb)"
      ]
    },
    {
      "cell_type": "markdown",
      "metadata": {
        "id": "A0WNIrV9QOrH"
      },
      "source": [
        "And extract the actual binary vectors stored inside our LSH index like so."
      ]
    },
    {
      "cell_type": "code",
      "execution_count": null,
      "metadata": {
        "id": "Vgqj-dlNQOrH",
        "outputId": "cbca444d-30bb-46bb-88fb-a638341193c1",
        "colab": {
          "base_uri": "https://localhost:8080/"
        }
      },
      "outputs": [
        {
          "output_type": "execute_result",
          "data": {
            "text/plain": [
              "array([ 5, 12,  5, ..., 15, 13, 12], dtype=uint8)"
            ]
          },
          "metadata": {},
          "execution_count": 64
        }
      ],
      "source": [
        "# extract index binary codes (represented as int)\n",
        "arr = faiss.vector_to_array(index.codes)\n",
        "arr"
      ]
    },
    {
      "cell_type": "code",
      "execution_count": null,
      "metadata": {
        "id": "SpXa8QHyQOrH",
        "outputId": "a51f4b29-9f29-4ccf-9ed7-3c7f2206f2d5",
        "colab": {
          "base_uri": "https://localhost:8080/"
        }
      },
      "outputs": [
        {
          "output_type": "execute_result",
          "data": {
            "text/plain": [
              "(1000000,)"
            ]
          },
          "metadata": {},
          "execution_count": 65
        }
      ],
      "source": [
        "# we see that there are 1M of these values, 1 for each vector\n",
        "arr.shape"
      ]
    },
    {
      "cell_type": "markdown",
      "metadata": {
        "id": "dS5qHKXfQOrH"
      },
      "source": [
        "We can convert these into our binary vector format like so:"
      ]
    },
    {
      "cell_type": "code",
      "execution_count": null,
      "metadata": {
        "id": "8lkGXy3VQOrH",
        "outputId": "406f5481-d8c0-480c-8dd9-e109d0fdfe56",
        "colab": {
          "base_uri": "https://localhost:8080/"
        }
      },
      "outputs": [
        {
          "output_type": "execute_result",
          "data": {
            "text/plain": [
              "array([[1, 0, 1, 0],\n",
              "       [0, 0, 1, 1],\n",
              "       [1, 0, 1, 0],\n",
              "       ...,\n",
              "       [1, 1, 1, 1],\n",
              "       [1, 0, 1, 1],\n",
              "       [0, 0, 1, 1]])"
            ]
          },
          "metadata": {},
          "execution_count": 66
        }
      ],
      "source": [
        "bin_vecs = (((arr[:, None] & (1 << np.arange(nbits)))) > 0).astype(int)\n",
        "bin_vecs"
      ]
    },
    {
      "cell_type": "markdown",
      "metadata": {
        "id": "uBLh8RKHQOrH"
      },
      "source": [
        "And convert them into strings for bucketing too:"
      ]
    },
    {
      "cell_type": "code",
      "execution_count": null,
      "metadata": {
        "id": "kcTEEb-_QOrH"
      },
      "outputs": [],
      "source": [
        "dist_arr = np.apply_along_axis(lambda x: ''.join(x), 1, bin_vecs.astype(str))"
      ]
    },
    {
      "cell_type": "code",
      "execution_count": null,
      "metadata": {
        "id": "bhjx32gHQOrH",
        "outputId": "a598ba28-bd59-47a8-88b2-c2beb60be13e",
        "colab": {
          "base_uri": "https://localhost:8080/"
        }
      },
      "outputs": [
        {
          "output_type": "execute_result",
          "data": {
            "text/plain": [
              "['0000',\n",
              " '0001',\n",
              " '0010',\n",
              " '0011',\n",
              " '0100',\n",
              " '0101',\n",
              " '0110',\n",
              " '0111',\n",
              " '1000',\n",
              " '1001',\n",
              " '1010',\n",
              " '1011',\n",
              " '1100',\n",
              " '1101',\n",
              " '1110',\n",
              " '1111']"
            ]
          },
          "metadata": {},
          "execution_count": 68
        }
      ],
      "source": [
        "order_bins = ['0'* (6-len(bin(x))) + bin(x)[2:] for x in range(16)]\n",
        "order_bins"
      ]
    },
    {
      "cell_type": "markdown",
      "metadata": {
        "id": "4203TnsdQOrH"
      },
      "source": [
        "Okay we can see that there are definitely far too many items in each bucket - remember that we cannot differentiate vectors that have been placed into the same bucket, so we can tell from this that our `nbits` value *must* be increased.\n",
        "\n",
        "## Visualizing Performance\n",
        "\n",
        "Now, let's take a look at *which* `nbits` values produce the best performance and speed."
      ]
    },
    {
      "cell_type": "code",
      "execution_count": null,
      "metadata": {
        "id": "5SD7SZf4QOrH",
        "outputId": "7be144ed-3c3f-46db-dbfa-f9cedf209ef4",
        "colab": {
          "base_uri": "https://localhost:8080/"
        }
      },
      "outputs": [
        {
          "output_type": "stream",
          "name": "stdout",
          "text": [
            "."
          ]
        },
        {
          "output_type": "stream",
          "name": "stderr",
          "text": [
            "<ipython-input-71-d516a608f215>:32: FutureWarning: The frame.append method is deprecated and will be removed from pandas in a future version. Use pandas.concat instead.\n",
            "  results = results.append(\n",
            "<ipython-input-71-d516a608f215>:32: FutureWarning: The frame.append method is deprecated and will be removed from pandas in a future version. Use pandas.concat instead.\n",
            "  results = results.append(\n",
            "<ipython-input-71-d516a608f215>:32: FutureWarning: The frame.append method is deprecated and will be removed from pandas in a future version. Use pandas.concat instead.\n",
            "  results = results.append(\n",
            "<ipython-input-71-d516a608f215>:32: FutureWarning: The frame.append method is deprecated and will be removed from pandas in a future version. Use pandas.concat instead.\n",
            "  results = results.append(\n",
            "<ipython-input-71-d516a608f215>:32: FutureWarning: The frame.append method is deprecated and will be removed from pandas in a future version. Use pandas.concat instead.\n",
            "  results = results.append(\n",
            "<ipython-input-71-d516a608f215>:32: FutureWarning: The frame.append method is deprecated and will be removed from pandas in a future version. Use pandas.concat instead.\n",
            "  results = results.append(\n",
            "<ipython-input-71-d516a608f215>:32: FutureWarning: The frame.append method is deprecated and will be removed from pandas in a future version. Use pandas.concat instead.\n",
            "  results = results.append(\n",
            "<ipython-input-71-d516a608f215>:32: FutureWarning: The frame.append method is deprecated and will be removed from pandas in a future version. Use pandas.concat instead.\n",
            "  results = results.append(\n",
            "<ipython-input-71-d516a608f215>:32: FutureWarning: The frame.append method is deprecated and will be removed from pandas in a future version. Use pandas.concat instead.\n",
            "  results = results.append(\n",
            "<ipython-input-71-d516a608f215>:32: FutureWarning: The frame.append method is deprecated and will be removed from pandas in a future version. Use pandas.concat instead.\n",
            "  results = results.append(\n",
            "<ipython-input-71-d516a608f215>:32: FutureWarning: The frame.append method is deprecated and will be removed from pandas in a future version. Use pandas.concat instead.\n",
            "  results = results.append(\n",
            "<ipython-input-71-d516a608f215>:32: FutureWarning: The frame.append method is deprecated and will be removed from pandas in a future version. Use pandas.concat instead.\n",
            "  results = results.append(\n",
            "<ipython-input-71-d516a608f215>:32: FutureWarning: The frame.append method is deprecated and will be removed from pandas in a future version. Use pandas.concat instead.\n",
            "  results = results.append(\n",
            "<ipython-input-71-d516a608f215>:32: FutureWarning: The frame.append method is deprecated and will be removed from pandas in a future version. Use pandas.concat instead.\n",
            "  results = results.append(\n",
            "<ipython-input-71-d516a608f215>:32: FutureWarning: The frame.append method is deprecated and will be removed from pandas in a future version. Use pandas.concat instead.\n",
            "  results = results.append(\n",
            "<ipython-input-71-d516a608f215>:32: FutureWarning: The frame.append method is deprecated and will be removed from pandas in a future version. Use pandas.concat instead.\n",
            "  results = results.append(\n",
            "<ipython-input-71-d516a608f215>:32: FutureWarning: The frame.append method is deprecated and will be removed from pandas in a future version. Use pandas.concat instead.\n",
            "  results = results.append(\n",
            "<ipython-input-71-d516a608f215>:32: FutureWarning: The frame.append method is deprecated and will be removed from pandas in a future version. Use pandas.concat instead.\n",
            "  results = results.append(\n",
            "<ipython-input-71-d516a608f215>:32: FutureWarning: The frame.append method is deprecated and will be removed from pandas in a future version. Use pandas.concat instead.\n",
            "  results = results.append(\n",
            "<ipython-input-71-d516a608f215>:32: FutureWarning: The frame.append method is deprecated and will be removed from pandas in a future version. Use pandas.concat instead.\n",
            "  results = results.append(\n",
            "<ipython-input-71-d516a608f215>:32: FutureWarning: The frame.append method is deprecated and will be removed from pandas in a future version. Use pandas.concat instead.\n",
            "  results = results.append(\n",
            "<ipython-input-71-d516a608f215>:32: FutureWarning: The frame.append method is deprecated and will be removed from pandas in a future version. Use pandas.concat instead.\n",
            "  results = results.append(\n",
            "<ipython-input-71-d516a608f215>:32: FutureWarning: The frame.append method is deprecated and will be removed from pandas in a future version. Use pandas.concat instead.\n",
            "  results = results.append(\n",
            "<ipython-input-71-d516a608f215>:32: FutureWarning: The frame.append method is deprecated and will be removed from pandas in a future version. Use pandas.concat instead.\n",
            "  results = results.append(\n",
            "<ipython-input-71-d516a608f215>:32: FutureWarning: The frame.append method is deprecated and will be removed from pandas in a future version. Use pandas.concat instead.\n",
            "  results = results.append(\n",
            "<ipython-input-71-d516a608f215>:32: FutureWarning: The frame.append method is deprecated and will be removed from pandas in a future version. Use pandas.concat instead.\n",
            "  results = results.append(\n",
            "<ipython-input-71-d516a608f215>:32: FutureWarning: The frame.append method is deprecated and will be removed from pandas in a future version. Use pandas.concat instead.\n",
            "  results = results.append(\n",
            "<ipython-input-71-d516a608f215>:32: FutureWarning: The frame.append method is deprecated and will be removed from pandas in a future version. Use pandas.concat instead.\n",
            "  results = results.append(\n",
            "<ipython-input-71-d516a608f215>:32: FutureWarning: The frame.append method is deprecated and will be removed from pandas in a future version. Use pandas.concat instead.\n",
            "  results = results.append(\n",
            "<ipython-input-71-d516a608f215>:32: FutureWarning: The frame.append method is deprecated and will be removed from pandas in a future version. Use pandas.concat instead.\n",
            "  results = results.append(\n",
            "<ipython-input-71-d516a608f215>:32: FutureWarning: The frame.append method is deprecated and will be removed from pandas in a future version. Use pandas.concat instead.\n",
            "  results = results.append(\n",
            "<ipython-input-71-d516a608f215>:32: FutureWarning: The frame.append method is deprecated and will be removed from pandas in a future version. Use pandas.concat instead.\n",
            "  results = results.append(\n",
            "<ipython-input-71-d516a608f215>:32: FutureWarning: The frame.append method is deprecated and will be removed from pandas in a future version. Use pandas.concat instead.\n",
            "  results = results.append(\n",
            "<ipython-input-71-d516a608f215>:32: FutureWarning: The frame.append method is deprecated and will be removed from pandas in a future version. Use pandas.concat instead.\n",
            "  results = results.append(\n",
            "<ipython-input-71-d516a608f215>:32: FutureWarning: The frame.append method is deprecated and will be removed from pandas in a future version. Use pandas.concat instead.\n",
            "  results = results.append(\n",
            "<ipython-input-71-d516a608f215>:32: FutureWarning: The frame.append method is deprecated and will be removed from pandas in a future version. Use pandas.concat instead.\n",
            "  results = results.append(\n"
          ]
        }
      ],
      "source": [
        "from datetime import datetime\n",
        "\n",
        "k = 50\n",
        "\n",
        "# initialize results dataframe\n",
        "results = pd.DataFrame({\n",
        "    'search_time': [],\n",
        "    'recall': [],\n",
        "    'nbits': [],\n",
        "    'nb': []\n",
        "})\n",
        "\n",
        "for epoch in range(1):\n",
        "    print('.', end='')\n",
        "    # number of samples to index\n",
        "    for nb in [50_000, 100_000, 250_000, 500_000, 750_000, 1_000_000]:\n",
        "        # exhaustive search results\n",
        "        index = faiss.IndexFlatL2(d)\n",
        "        index.add(wb[:nb])\n",
        "        start = datetime.now()\n",
        "        D, I = index.search(xq0, k)\n",
        "        flat_time = (datetime.now() - start).microseconds\n",
        "        # target_ids can be considered as ground truths\n",
        "        target_ids = I[0].tolist()\n",
        "        # LSH search\n",
        "        for nbits in [64, 128, 256, 512, 768, 32]:\n",
        "            start = datetime.now()\n",
        "            #Question1: Write script to create index using the data and corresponding nbits.\n",
        "            lsh_time = (datetime.now() - start).microseconds\n",
        "            #Question2: Considering target_ids as the ground truth, calculate recall values of the LSH outputs you obtained in Question1.\n",
        "            recall = ?\n",
        "            results = results.append(\n",
        "                pd.DataFrame({\n",
        "                    'search_time': [lsh_time / flat_time],\n",
        "                    'recall': [recall],\n",
        "                    'nbits': [nbits],\n",
        "                    'nb': [nb]\n",
        "                }), ignore_index=True\n",
        "            )"
      ]
    },
    {
      "cell_type": "code",
      "execution_count": null,
      "metadata": {
        "id": "AJjMaLvUQOrI",
        "outputId": "ea73d5b8-296c-4c05-b695-bb7f5354708b",
        "colab": {
          "base_uri": "https://localhost:8080/",
          "height": 714
        }
      },
      "outputs": [
        {
          "output_type": "execute_result",
          "data": {
            "text/plain": [
              "<Axes: xlabel='nb', ylabel='recall'>"
            ]
          },
          "metadata": {},
          "execution_count": 72
        },
        {
          "output_type": "display_data",
          "data": {
            "text/plain": [
              "<Figure size 1200x800 with 1 Axes>"
            ],
            "image/png": "[encoded data removed]"
          },
          "metadata": {}
        }
      ],
      "source": [
        "plt.figure(figsize=(12, 8))\n",
        "sns.lineplot(data=results, x='nb', y='recall', hue='nbits')"
      ]
    },
    {
      "cell_type": "markdown",
      "metadata": {
        "id": "DyDWSp88QOrI"
      },
      "source": [
        "We certainly need to be pushing our `nbits` values high to get reasonable recall values, but we also risk making our search slower than an *exhaustive* search - so there is a bit of balancing required to find the sweet spot for each use-case."
      ]
    },
    {
      "cell_type": "markdown",
      "source": [
        "Question3: For every nbits, plot nb (X-axis) vs search time (Y-axis)."
      ],
      "metadata": {
        "id": "5hrkTOGEVZkZ"
      }
    },
    {
      "cell_type": "markdown",
      "source": [
        "Question4: How would you find the optimal nbits for your data?"
      ],
      "metadata": {
        "id": "JVR90-4LiYBr"
      }
    }
  ],
  "metadata": {
    "kernelspec": {
      "display_name": "base",
      "language": "python",
      "name": "python3"
    },
    "language_info": {
      "codemirror_mode": {
        "name": "ipython",
        "version": 3
      },
      "file_extension": ".py",
      "mimetype": "text/x-python",
      "name": "python",
      "nbconvert_exporter": "python",
      "pygments_lexer": "ipython3",
      "version": "3.8.13 (default, Mar 28 2022, 06:59:08) [MSC v.1916 64 bit (AMD64)]"
    },
    "orig_nbformat": 4,
    "vscode": {
      "interpreter": {
        "hash": "5fe10bf018ef3e697f9035d60bf60847932a12bface18908407fd371fe880db9"
      }
    },
    "colab": {
      "provenance": []
    }
  },
  "nbformat": 4,
  "nbformat_minor": 0
}